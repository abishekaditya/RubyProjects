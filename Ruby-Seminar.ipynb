{
 "cells": [
  {
   "cell_type": "markdown",
   "metadata": {
    "collapsed": true,
    "nbpresent": {
     "id": "737f7210-11b3-4e18-8c1f-639fefef443d"
    },
    "slideshow": {
     "slide_type": "slide"
    }
   },
   "source": [
    "## Ruby 2.3.3"
   ]
  },
  {
   "cell_type": "markdown",
   "metadata": {
    "nbpresent": {
     "id": "93c0c456-8f63-4cc6-a305-e0b75332d43e"
    },
    "slideshow": {
     "slide_type": "fragment"
    }
   },
   "source": [
    "#### Hello World!"
   ]
  },
  {
   "cell_type": "code",
   "execution_count": 1,
   "metadata": {
    "collapsed": false,
    "nbpresent": {
     "id": "6603d07f-2e73-4431-a716-345d3a87bbe5"
    },
    "slideshow": {
     "slide_type": "fragment"
    }
   },
   "outputs": [
    {
     "name": "stdout",
     "output_type": "stream",
     "text": [
      "Hello, World\n"
     ]
    }
   ],
   "source": [
    "puts \"Hello, World\""
   ]
  },
  {
   "cell_type": "markdown",
   "metadata": {
    "nbpresent": {
     "id": "82b12948-15db-4e53-9741-ec37526586bb"
    }
   },
   "source": [
    "#### Basic Maths and String intepolation"
   ]
  },
  {
   "cell_type": "code",
   "execution_count": 2,
   "metadata": {
    "collapsed": false,
    "nbpresent": {
     "id": "b06d3a98-cb2e-43ef-b520-4aab7dea76cf"
    }
   },
   "outputs": [
    {
     "name": "stdout",
     "output_type": "stream",
     "text": [
      "5+5 is 10\n",
      "25\n",
      "1\n",
      "35\n",
      "35.5\n"
     ]
    }
   ],
   "source": [
    "puts \"5+5 is #{5+5}\"\n",
    "puts 5**2\n",
    "puts -7%2\n",
    "puts 71/2\n",
    "puts 71/2.0\n",
    "\n"
   ]
  },
  {
   "cell_type": "markdown",
   "metadata": {
    "nbpresent": {
     "id": "87e2e099-7585-4396-9824-d2f6da7b1968"
    }
   },
   "source": [
    "#### Some simple methods"
   ]
  },
  {
   "cell_type": "code",
   "execution_count": 3,
   "metadata": {
    "collapsed": false,
    "nbpresent": {
     "id": "5b9b06e2-0c94-4958-a3db-997f9e845018"
    }
   },
   "outputs": [
    {
     "name": "stdout",
     "output_type": "stream",
     "text": [
      "hello world\n",
      "[\"hello\", \"world\"]\n",
      "true\n",
      "57.12\n"
     ]
    }
   ],
   "source": [
    "puts \"Hello World\".downcase\n",
    "puts \"hello world\".split(\" \")\n",
    "puts \"\".empty?\n",
    "puts -57.12.abs"
   ]
  },
  {
   "cell_type": "markdown",
   "metadata": {
    "nbpresent": {
     "id": "08b4705c-44e6-403e-a4a2-7a3fc4478cb2"
    }
   },
   "source": [
    "#### Duck typing"
   ]
  },
  {
   "cell_type": "code",
   "execution_count": 4,
   "metadata": {
    "collapsed": false,
    "nbpresent": {
     "id": "7edc207b-62ff-4645-8ac9-a6100df00d84"
    }
   },
   "outputs": [
    {
     "name": "stdout",
     "output_type": "stream",
     "text": [
      "cake\n"
     ]
    }
   ],
   "source": [
    "a_num = 5.2  # This is a comment\n",
    "b_char = \"s\"\n",
    "number = \"My_number\"\n",
    "CONSTANT = 25\n",
    "a_num = \"cake\"\n",
    "\n",
    "puts a_num"
   ]
  },
  {
   "cell_type": "markdown",
   "metadata": {
    "nbpresent": {
     "id": "d3c10d65-d370-4556-8dc3-5d6810e09841"
    }
   },
   "source": [
    "#### Conditionals"
   ]
  },
  {
   "cell_type": "code",
   "execution_count": 5,
   "metadata": {
    "collapsed": false,
    "nbpresent": {
     "id": "ddc1c39d-f1c4-42dc-94b1-1b653d6338d4"
    }
   },
   "outputs": [
    {
     "data": {
      "text/plain": [
       "\"Hello\""
      ]
     },
     "execution_count": 5,
     "metadata": {},
     "output_type": "execute_result"
    }
   ],
   "source": [
    "a = \"Hello\" if 5 > 3"
   ]
  },
  {
   "cell_type": "code",
   "execution_count": 6,
   "metadata": {
    "collapsed": false,
    "nbpresent": {
     "id": "b8e02a3e-7c20-4964-ab6b-3a27b8de0609"
    }
   },
   "outputs": [
    {
     "data": {
      "text/plain": [
       "\"G\""
      ]
     },
     "execution_count": 6,
     "metadata": {},
     "output_type": "execute_result"
    }
   ],
   "source": [
    "a = \"G\" unless 5 < 2"
   ]
  },
  {
   "cell_type": "code",
   "execution_count": 7,
   "metadata": {
    "collapsed": false,
    "nbpresent": {
     "id": "ed306ebb-6e5a-4008-9a51-662779f71eb4"
    }
   },
   "outputs": [
    {
     "name": "stdout",
     "output_type": "stream",
     "text": [
      "Yo\n"
     ]
    }
   ],
   "source": [
    "if a==\"G\"\n",
    "  puts \"Yo\"\n",
    "end"
   ]
  },
  {
   "cell_type": "code",
   "execution_count": 8,
   "metadata": {
    "collapsed": false,
    "nbpresent": {
     "id": "e947859a-0449-498f-b36d-63b47bf693a6"
    }
   },
   "outputs": [
    {
     "name": "stdout",
     "output_type": "stream",
     "text": [
      "value of a is G\n"
     ]
    }
   ],
   "source": [
    "unless a.empty?\n",
    "  puts \"value of a is #{a}\"\n",
    "end"
   ]
  },
  {
   "cell_type": "code",
   "execution_count": 9,
   "metadata": {
    "collapsed": false,
    "nbpresent": {
     "id": "92ba1250-3795-40fb-82e3-8fc3ba0ab0a7"
    }
   },
   "outputs": [
    {
     "name": "stdout",
     "output_type": "stream",
     "text": [
      "Not Old\n"
     ]
    }
   ],
   "source": [
    "a = 20\n",
    "if a > 50\n",
    "  puts \"Old Guy\"\n",
    "elsif a > 40\n",
    "  puts \"Middle Aged\"\n",
    "else\n",
    "  puts \"Not Old\"\n",
    "end    "
   ]
  },
  {
   "cell_type": "code",
   "execution_count": 10,
   "metadata": {
    "collapsed": false,
    "nbpresent": {
     "id": "d716cdbc-bd98-4920-9ed7-81ac580839aa"
    }
   },
   "outputs": [
    {
     "name": "stdout",
     "output_type": "stream",
     "text": [
      "AC\n"
     ]
    }
   ],
   "source": [
    "x = 12\n",
    "\n",
    "case x\n",
    "when 10...12 \n",
    "  puts \"A\"\n",
    "when 13..15\n",
    "  puts \"C\"\n",
    "else; puts \"AC\"\n",
    "end"
   ]
  },
  {
   "cell_type": "markdown",
   "metadata": {
    "nbpresent": {
     "id": "349f1f76-6b30-4b80-9d28-a7bb0d1e1924"
    }
   },
   "source": [
    "#### loops"
   ]
  },
  {
   "cell_type": "code",
   "execution_count": 11,
   "metadata": {
    "collapsed": false,
    "nbpresent": {
     "id": "d176fd5b-b75d-458f-8e22-e6e00c2f4752"
    }
   },
   "outputs": [
    {
     "name": "stdout",
     "output_type": "stream",
     "text": [
      "1\n",
      "2\n",
      "3\n",
      "4\n",
      "5\n"
     ]
    },
    {
     "data": {
      "text/plain": [
       "1..5"
      ]
     },
     "execution_count": 11,
     "metadata": {},
     "output_type": "execute_result"
    }
   ],
   "source": [
    "for i in 1..5 do \n",
    "  puts i\n",
    "end"
   ]
  },
  {
   "cell_type": "code",
   "execution_count": 12,
   "metadata": {
    "collapsed": false,
    "nbpresent": {
     "id": "739793ef-813b-4f3c-a489-60cbaf80e44a"
    }
   },
   "outputs": [
    {
     "name": "stdout",
     "output_type": "stream",
     "text": [
      "5\n",
      "4\n",
      "3\n",
      "2\n",
      "1\n",
      "0\n"
     ]
    }
   ],
   "source": [
    "a = 5\n",
    "while a >= 0\n",
    "  puts a\n",
    "  a -= 1\n",
    "end"
   ]
  },
  {
   "cell_type": "code",
   "execution_count": 13,
   "metadata": {
    "collapsed": false,
    "nbpresent": {
     "id": "32f86839-a55b-46e5-952f-bf364cfd00f8"
    }
   },
   "outputs": [
    {
     "name": "stdout",
     "output_type": "stream",
     "text": [
      "0\n",
      "3\n",
      "2\n",
      "-3\n",
      "-12\n"
     ]
    }
   ],
   "source": [
    "a = 0\n",
    "b = -5\n",
    "until a < -5 || b > 4\n",
    "  puts \"#{a*b}\"\n",
    "  a -= 1\n",
    "  b += 2\n",
    "end"
   ]
  },
  {
   "cell_type": "code",
   "execution_count": 14,
   "metadata": {
    "collapsed": false,
    "nbpresent": {
     "id": "dca27c40-a384-41f3-9f04-833c71ed0c4e"
    }
   },
   "outputs": [
    {
     "name": "stdout",
     "output_type": "stream",
     "text": [
      "1\n",
      "4\n",
      "9\n",
      "25\n"
     ]
    },
    {
     "data": {
      "text/plain": [
       "[1, 2, 3, 5]"
      ]
     },
     "execution_count": 14,
     "metadata": {},
     "output_type": "execute_result"
    }
   ],
   "source": [
    "[1,2,3,5].each do |i|\n",
    "  puts i*i\n",
    "end"
   ]
  },
  {
   "cell_type": "markdown",
   "metadata": {
    "nbpresent": {
     "id": "1773d962-966c-4c30-b97b-1ad32c9de90f"
    }
   },
   "source": [
    "#### Data Structures"
   ]
  },
  {
   "cell_type": "code",
   "execution_count": 15,
   "metadata": {
    "collapsed": false,
    "nbpresent": {
     "id": "f2f8bbbc-5fce-4f19-a77b-f32b4c01f10f"
    }
   },
   "outputs": [
    {
     "name": "stdout",
     "output_type": "stream",
     "text": [
      "[1, \"hello\", false]\n",
      "1\n",
      "1\n",
      "\n",
      "4\n",
      "5\n",
      "[3, 4, 5]\n",
      "[3, 4, 5]\n",
      "[1, 2]\n",
      "\n",
      "[3, 2, 1]\n",
      "[1, 50, 5]\n",
      "\n",
      "[3, 2, 1, 4]\n",
      "true\n",
      "\n",
      "9 => 0\n",
      "4 => 1\n",
      "1 => 2\n",
      "16 => 3\n",
      "25 => 4\n"
     ]
    },
    {
     "data": {
      "text/plain": [
       "[3, 2, 1, 4, 5]"
      ]
     },
     "execution_count": 15,
     "metadata": {},
     "output_type": "execute_result"
    }
   ],
   "source": [
    "array = [1, 2, 3, 4, 5]\n",
    "\n",
    "\n",
    "puts [1, 'hello', false]\n",
    "\n",
    "puts array[0]\n",
    "puts array.first\n",
    "puts array[12]\n",
    "\n",
    "array.[] 0 #=> same as array[0] Array class uses indexed which is a method in the class like [] and []=\n",
    "\n",
    "puts array[-2]\n",
    "puts array.last\n",
    "\n",
    "puts array[2, 3] #start, number\n",
    "puts array[2..5] #range\n",
    "puts array[0...2] #range inclusive\n",
    "puts \n",
    "a=[1,2,3]\n",
    "a.reverse!\n",
    "puts a\n",
    "# Or with a range\n",
    "array[1..3] = 50\n",
    "puts array \n",
    "puts\n",
    "a << 4\n",
    "puts a\n",
    "a.push(5)\n",
    "\n",
    "puts array.include?(50)\n",
    "puts\n",
    "a.each_with_index {|i,k|  puts \"#{i**2} => #{k}\"}\n"
   ]
  },
  {
   "cell_type": "code",
   "execution_count": 16,
   "metadata": {
    "collapsed": false,
    "nbpresent": {
     "id": "e0efb163-e719-4e6e-809a-5774749cef62"
    }
   },
   "outputs": [
    {
     "name": "stdout",
     "output_type": "stream",
     "text": [
      "[\"color\", \"number\"]\n",
      "green\n",
      "5\n",
      "\n",
      "[:words, :action]\n",
      "\n",
      "true\n",
      "false\n",
      "\n",
      "words : 3\n",
      "action : nothing exists\n"
     ]
    },
    {
     "data": {
      "text/plain": [
       "{:words=>3, :action=>nil}"
      ]
     },
     "execution_count": 16,
     "metadata": {},
     "output_type": "execute_result"
    }
   ],
   "source": [
    "\n",
    "# Hashes are Ruby's primary dictionary with key/value pairs.\n",
    "\n",
    "hash = { 'color' => 'green', 'number' => 5 }\n",
    "\n",
    "puts hash.keys\n",
    "\n",
    "\n",
    "puts hash['color']\n",
    "puts hash['number']\n",
    "\n",
    "puts hash['nothing here']\n",
    "\n",
    "\n",
    "new_hash = { words: 3, action: nil } #Symbols as keys\n",
    "\n",
    "puts new_hash.keys\n",
    "\n",
    "puts\n",
    "puts new_hash.key?(:words)\n",
    "puts new_hash.value?(13)\n",
    "puts\n",
    "new_hash.each do |key,value|\n",
    "  puts \"#{key} : #{value.nil? ? 'nothing exists' : value}\"\n",
    "end\n"
   ]
  },
  {
   "cell_type": "markdown",
   "metadata": {
    "nbpresent": {
     "id": "34f5a49f-2d39-49a8-b4db-ceef173d26e5"
    }
   },
   "source": [
    "#### File Handling"
   ]
  },
  {
   "cell_type": "code",
   "execution_count": 17,
   "metadata": {
    "collapsed": false,
    "nbpresent": {
     "id": "8994e94f-4233-4490-a49d-c41654e37feb"
    }
   },
   "outputs": [
    {
     "name": "stdout",
     "output_type": "stream",
     "text": [
      "Rails - done\n",
      "\n",
      "C# - done\n",
      "\n",
      "C - done\n",
      "\n",
      "C++ - done\n",
      "\n",
      "Python - done\n",
      "\n",
      "SQL - done\n",
      "\n",
      "Redis - done\n",
      "\n",
      "Java - done\n",
      "\n",
      "ASP (MVC + Core) - done\n",
      "\n",
      "Prolog - done\n",
      "\n",
      "Ruby - done\n",
      "\n",
      "Javascript - done\n",
      "\n",
      "jQuery - done\n",
      "\n",
      "Swift \n",
      "\n",
      "Scala\n",
      "\n",
      "Clojure\n",
      "\n",
      "Rust\n",
      "\n",
      "WPF\n",
      "\n",
      "Elixir\n",
      "\n",
      "FSharp\n",
      "\n",
      "Ember\n",
      "\n",
      "MIPS\n",
      "\n"
     ]
    }
   ],
   "source": [
    "File.open('planner', 'r') do |f1|  \n",
    "  while line = f1.gets  \n",
    "    puts line  \n",
    "  end  \n",
    "end  \n",
    "  \n",
    "# Create a new file and write to it  \n",
    "File.open('tester', 'w') do |f2|  \n",
    "  # use \"\\n\" for two lines of text  \n",
    "  f2.puts \"Created by Abishek\\nNext Line\"  \n",
    "end  "
   ]
  },
  {
   "cell_type": "markdown",
   "metadata": {
    "nbpresent": {
     "id": "b67efdb9-d2ac-42eb-9970-3aa375ccde2d"
    }
   },
   "source": [
    "#### Methods and functions"
   ]
  },
  {
   "cell_type": "code",
   "execution_count": 18,
   "metadata": {
    "collapsed": false,
    "nbpresent": {
     "id": "787a77e3-ef0d-42ca-be50-950485892ff7"
    }
   },
   "outputs": [
    {
     "name": "stdout",
     "output_type": "stream",
     "text": [
      "{\n",
      "hello world\n",
      "}\n",
      "pancake\n",
      "quesadilla\n",
      "false\n",
      "true\n",
      "SMALLER COMPANY\n",
      "Smaller Company\n",
      "SMALLER COMPANY\n",
      "SMALLER COMPANY\n"
     ]
    }
   ],
   "source": [
    "\n",
    "def double(x)\n",
    "  x * 2\n",
    "end\n",
    "\n",
    "# Functions (and all blocks) implicitly return the value of the last statement\n",
    "double(2)\n",
    "\n",
    "double 3 #optional paranthesis\n",
    "\n",
    "double double 3\n",
    "\n",
    "def sum(x, y)\n",
    "  x + y\n",
    "end\n",
    "\n",
    "sum 3, 4\n",
    "\n",
    "sum sum(3, 4), 5\n",
    "\n",
    "\n",
    "def surround\n",
    "  puts '{'\n",
    "  yield\n",
    "  puts '}'\n",
    "end\n",
    "\n",
    "surround { puts 'hello world' }\n",
    "\n",
    "\n",
    "#you can use destructuring assignment\n",
    "def foods\n",
    "    ['pancake', 'sandwich', 'quesadilla']\n",
    "end\n",
    "\n",
    "breakfast, lunch, dinner = foods\n",
    "puts breakfast\n",
    "puts dinner\n",
    "\n",
    "# By convention, all methods that return booleans end with a question mark\n",
    "puts 5.even?\n",
    "puts 5.odd?\n",
    "\n",
    "company_name = \"Smaller Company\"\n",
    "puts company_name.upcase \n",
    "puts company_name \n",
    "puts company_name.upcase! # we're mutating\n",
    "puts company_name"
   ]
  },
  {
   "cell_type": "markdown",
   "metadata": {
    "nbpresent": {
     "id": "16823f3a-2f2c-413d-8d25-457a3cd50776"
    }
   },
   "source": [
    "#### Classes and Modules"
   ]
  },
  {
   "cell_type": "code",
   "execution_count": 19,
   "metadata": {
    "collapsed": false,
    "nbpresent": {
     "id": "f5d07adc-f8c9-44e9-8406-d3a6fa1103e5"
    }
   },
   "outputs": [
    {
     "name": "stdout",
     "output_type": "stream",
     "text": [
      "#<Human:0x005626524f6248>\n",
      "Abishek Aditya\n",
      "H. sapiens\n",
      "Hello World\n",
      "\n"
     ]
    }
   ],
   "source": [
    "class Human\n",
    "\n",
    "  # A class variable\n",
    "  @@species = 'H. sapiens'\n",
    "\n",
    "  # Basic initializer\n",
    "  def initialize(name, age = 0) # default age is 0, no need to add it\n",
    "    @name = name\n",
    "    @age = age\n",
    "  end\n",
    "\n",
    "  # Basic setter method\n",
    "  def name=(name)\n",
    "    @name = name\n",
    "  end\n",
    "\n",
    "  # Basic getter method\n",
    "  def name\n",
    "    @name\n",
    "  end\n",
    "\n",
    " # attr_accessor :name\n",
    "\n",
    " # attr_reader :name\n",
    " # attr_writer :name\n",
    "\n",
    "  # A class method uses self to distinguish from instance methods.\n",
    "  def self.say(msg)\n",
    "    puts msg\n",
    "  end\n",
    "\n",
    "  def species\n",
    "    @@species\n",
    "  end\n",
    "end\n",
    "\n",
    "\n",
    "abishek = Human.new(\"Abishek\",19)\n",
    "puts abishek\n",
    "abishek.name = \"Abishek Aditya\"\n",
    "puts abishek.name\n",
    "puts abishek.species\n",
    "puts Human.say \"Hello World\"  #Brackets not important"
   ]
  },
  {
   "cell_type": "code",
   "execution_count": 20,
   "metadata": {
    "collapsed": true,
    "nbpresent": {
     "id": "325efec6-9288-4e2d-86e2-2a1a01c6d3a0"
    }
   },
   "outputs": [],
   "source": [
    "#Inheritance\n",
    "\n",
    "class Human\n",
    "  @@foo = 0\n",
    "\n",
    "  def self.foo\n",
    "    @@foo\n",
    "  end\n",
    "  \n",
    "  def self.foo=(value)\n",
    "    @@foo = value\n",
    "  end\n",
    "  \n",
    "end\n",
    "\n",
    "# derived class\n",
    "class Worker < Human  # worker derives from human\n",
    "end\n",
    "\n",
    "Human.foo # 0\n",
    "Worker.foo # 0\n",
    "\n",
    "Human.foo = 2 # 2\n",
    "Worker.foo # 2\n",
    "\n",
    "# Class instance variable is not shared by the class's descendants.\n",
    "\n",
    "class Human\n",
    "  @bar = 0\n",
    "\n",
    "  def self.bar\n",
    "    @bar\n",
    "  end\n",
    "\n",
    "  def self.bar=(value)\n",
    "    @bar = value\n",
    "  end\n",
    "end\n",
    "\n",
    "class Doctor < Human\n",
    "end\n",
    "\n",
    "Human.bar # 0\n",
    "Doctor.bar # nil"
   ]
  },
  {
   "cell_type": "markdown",
   "metadata": {
    "nbpresent": {
     "id": "291a7273-5597-430d-8a80-f1a3a9989b5f"
    }
   },
   "source": [
    "Modules are like classes but don't have initializers and can not be assigned to an object. They can be imprted and mixed in with other classes."
   ]
  },
  {
   "cell_type": "code",
   "execution_count": 21,
   "metadata": {
    "collapsed": false,
    "nbpresent": {
     "id": "c0c29d05-e165-4acf-8c39-ac4d9431dfc6"
    }
   },
   "outputs": [
    {
     "name": "stdout",
     "output_type": "stream",
     "text": [
      "foo\n",
      "foo\n"
     ]
    }
   ],
   "source": [
    "module ModuleExample\n",
    "  def foo\n",
    "    'foo'\n",
    "  end\n",
    "end\n",
    "\n",
    "# Including modules binds their methods to the class instances\n",
    "\n",
    "class Person\n",
    "  include ModuleExample\n",
    "end\n",
    "\n",
    "# Extending modules binds their methods to the class itself\n",
    "\n",
    "class Book\n",
    "  extend ModuleExample\n",
    "end\n",
    "\n",
    "# Person.foo      => NoMethodError: undefined method `foo' for Person:Class\n",
    "p = Person.new \n",
    "puts p.foo     # => 'foo'\n",
    "\n",
    "\n",
    "puts Book.foo       # => 'foo'\n",
    "# Book.new.foo    => NoMethodError: undefined method `foo'"
   ]
  },
  {
   "cell_type": "markdown",
   "metadata": {
    "nbpresent": {
     "id": "196e3c3f-3bc9-47b4-8130-27089f3b5d2d"
    }
   },
   "source": [
    "#### Splatting"
   ]
  },
  {
   "cell_type": "code",
   "execution_count": 22,
   "metadata": {
    "collapsed": false,
    "nbpresent": {
     "id": "a4f4d95b-8e37-4e9f-96dd-ddbe34a8e9e3"
    }
   },
   "outputs": [
    {
     "name": "stdout",
     "output_type": "stream",
     "text": [
      "abishek\n",
      "abhilasha\n",
      "arkansas\n",
      "cake is of type chocolate\n",
      "biscuit is of type Orange\n",
      "400\n",
      "50\n",
      "2500\n"
     ]
    }
   ],
   "source": [
    "def guests(*array)   #Put host, in front\n",
    "  array.each { |guest| puts guest }\n",
    "end\n",
    "\n",
    "guests('abishek','abhilasha','arkansas')\n",
    "\n",
    "def hasher(**args)\n",
    "  args.each do |k,v|\n",
    "    puts \"#{k} is of type #{v}\"\n",
    "  end\n",
    "end\n",
    "\n",
    "hasher(cake: \"chocolate\",biscuit: \"Orange\")\n",
    "\n",
    "hash = {a: 5,b: 10}\n",
    "\n",
    "def hacker(a: 5,b: 5)\n",
    "  puts a*b\n",
    "end\n",
    "\n",
    "hacker a: 20, b: 20\n",
    "hacker **hash\n",
    "hacker b: 500"
   ]
  },
  {
   "cell_type": "markdown",
   "metadata": {
    "nbpresent": {
     "id": "fac53cdf-c39c-497e-add9-1d37beb0aa9a"
    }
   },
   "source": [
    "#### Blocks, Procs and Lambdas"
   ]
  },
  {
   "cell_type": "code",
   "execution_count": 23,
   "metadata": {
    "collapsed": false,
    "nbpresent": {
     "id": "35f2d6b6-6224-42d4-9001-d58a26c952d1"
    }
   },
   "outputs": [
    {
     "name": "stdout",
     "output_type": "stream",
     "text": [
      "20\n",
      "26\n"
     ]
    }
   ],
   "source": [
    "def multiplier(num,&block)\n",
    "  block.call num\n",
    "end\n",
    "\n",
    "mul4 = Proc.new {|i| puts i*4 } #or lambda {|i| puts i*4 }\n",
    "\n",
    "multiplier(5,&mul4)\n",
    "\n",
    "multiplier(2) {|i| puts i*13}\n"
   ]
  }
 ],
 "metadata": {
  "anaconda-cloud": {},
  "kernelspec": {
   "display_name": "Ruby 2.3.3",
   "language": "ruby",
   "name": "ruby"
  },
  "language_info": {
   "file_extension": ".rb",
   "mimetype": "application/x-ruby",
   "name": "ruby",
   "version": "2.3.3"
  },
  "nbpresent": {
   "slides": {
    "05950cb3-7d4e-4fd6-9cc2-4b862003cb2e": {
     "id": "05950cb3-7d4e-4fd6-9cc2-4b862003cb2e",
     "prev": "d0eaad71-0462-4385-848a-5d7edcd4742f",
     "regions": {
      "270a5f63-3935-4296-9269-4b72ba54011d": {
       "attrs": {
        "height": 0.8,
        "width": 0.8,
        "x": 0.1,
        "y": 0.1
       },
       "content": {
        "cell": "34f5a49f-2d39-49a8-b4db-ceef173d26e5",
        "part": "whole"
       },
       "id": "270a5f63-3935-4296-9269-4b72ba54011d"
      }
     }
    },
    "17f84033-872d-4862-85e0-55d3c99e26e0": {
     "id": "17f84033-872d-4862-85e0-55d3c99e26e0",
     "prev": "85599096-20ff-43b4-98f3-254387707d72",
     "regions": {
      "57fd618c-571e-4808-8745-6dedb4df0310": {
       "attrs": {
        "height": 0.8,
        "width": 0.8,
        "x": 0.1,
        "y": 0.1
       },
       "content": {
        "cell": "f2f8bbbc-5fce-4f19-a77b-f32b4c01f10f",
        "part": "whole"
       },
       "id": "57fd618c-571e-4808-8745-6dedb4df0310"
      }
     }
    },
    "2aa7175b-94c4-4d11-bf53-118f2b7c0fd4": {
     "id": "2aa7175b-94c4-4d11-bf53-118f2b7c0fd4",
     "prev": "84f2a88e-0654-4f2e-865b-7f507f9ad6bd",
     "regions": {
      "76f8e084-b65f-4092-a604-9bfcee79f9a7": {
       "attrs": {
        "height": 0.8,
        "width": 0.8,
        "x": 0.1,
        "y": 0.1
       },
       "content": {
        "cell": "b8e02a3e-7c20-4964-ab6b-3a27b8de0609",
        "part": "whole"
       },
       "id": "76f8e084-b65f-4092-a604-9bfcee79f9a7"
      }
     }
    },
    "3b66a94b-92ba-43ba-87f9-a28bd9dbbcf2": {
     "id": "3b66a94b-92ba-43ba-87f9-a28bd9dbbcf2",
     "prev": "7efb704b-4f3e-45a7-85f4-facfb609a030",
     "regions": {
      "9d462c1f-7f71-4cdc-a73d-cb8c4845fb51": {
       "attrs": {
        "height": 0.8,
        "width": 0.8,
        "x": 0.1,
        "y": 0.1
       },
       "content": {
        "cell": "32f86839-a55b-46e5-952f-bf364cfd00f8",
        "part": "whole"
       },
       "id": "9d462c1f-7f71-4cdc-a73d-cb8c4845fb51"
      }
     }
    },
    "3c053af7-b94c-41a6-8978-62c672be30c2": {
     "id": "3c053af7-b94c-41a6-8978-62c672be30c2",
     "prev": "3b66a94b-92ba-43ba-87f9-a28bd9dbbcf2",
     "regions": {
      "187678b2-d9e3-47c7-ae16-8e0b52ad49c2": {
       "attrs": {
        "height": 0.8,
        "width": 0.8,
        "x": 0.1,
        "y": 0.1
       },
       "content": {
        "cell": "dca27c40-a384-41f3-9f04-833c71ed0c4e",
        "part": "whole"
       },
       "id": "187678b2-d9e3-47c7-ae16-8e0b52ad49c2"
      }
     }
    },
    "434c5cf2-d60d-4db0-a1ba-79b5934090bd": {
     "id": "434c5cf2-d60d-4db0-a1ba-79b5934090bd",
     "prev": "7950bad2-3910-467f-9701-55d0674a5022",
     "regions": {
      "04b23b1f-e0bb-4f2d-92e6-39b6bc49ac02": {
       "attrs": {
        "height": 0.8,
        "width": 0.8,
        "x": 0.1,
        "y": 0.1
       },
       "content": {
        "cell": "16823f3a-2f2c-413d-8d25-457a3cd50776",
        "part": "whole"
       },
       "id": "04b23b1f-e0bb-4f2d-92e6-39b6bc49ac02"
      }
     }
    },
    "435cbb08-4a7a-4a22-ae46-bb060a4548dd": {
     "id": "435cbb08-4a7a-4a22-ae46-bb060a4548dd",
     "prev": "f71b54be-037c-4217-9a45-7d86c82c89c6",
     "regions": {
      "537be2c1-474d-4aa8-adfb-d56cf0585496": {
       "attrs": {
        "height": 0.8,
        "width": 0.8,
        "x": 0.1,
        "y": 0.1
       },
       "content": {
        "cell": "d176fd5b-b75d-458f-8e22-e6e00c2f4752",
        "part": "whole"
       },
       "id": "537be2c1-474d-4aa8-adfb-d56cf0585496"
      }
     }
    },
    "45a9b1ca-63f0-46e5-9faa-65b8e56c076a": {
     "id": "45a9b1ca-63f0-46e5-9faa-65b8e56c076a",
     "prev": "814d1668-4188-4864-85b2-7d795d4a2429",
     "regions": {
      "3543ce52-979f-4fe1-94d6-3fd70f8bfd00": {
       "attrs": {
        "height": 0.8,
        "width": 0.8,
        "x": 0.1,
        "y": 0.1
       },
       "content": {
        "cell": "d716cdbc-bd98-4920-9ed7-81ac580839aa",
        "part": "whole"
       },
       "id": "3543ce52-979f-4fe1-94d6-3fd70f8bfd00"
      }
     }
    },
    "4764af41-c851-4c01-950e-2843b8d68ccc": {
     "id": "4764af41-c851-4c01-950e-2843b8d68ccc",
     "prev": null,
     "regions": {
      "5fa880b3-8c9b-4c2a-a37f-3cbf88dcdbe2": {
       "attrs": {
        "height": 0.8,
        "width": 0.8,
        "x": 0.1,
        "y": 0.1
       },
       "content": {
        "cell": "737f7210-11b3-4e18-8c1f-639fefef443d",
        "part": "whole"
       },
       "id": "5fa880b3-8c9b-4c2a-a37f-3cbf88dcdbe2"
      }
     }
    },
    "4c2012ca-073f-46db-a82f-04281cdc2fab": {
     "id": "4c2012ca-073f-46db-a82f-04281cdc2fab",
     "prev": "f0e5fa0e-7474-45ee-ac01-a319ff14faa9",
     "regions": {
      "e68edb67-6f82-49ae-bf6d-e934f463bd88": {
       "attrs": {
        "height": 0.8,
        "width": 0.8,
        "x": 0.1,
        "y": 0.1
       },
       "content": {
        "cell": "fac53cdf-c39c-497e-add9-1d37beb0aa9a",
        "part": "whole"
       },
       "id": "e68edb67-6f82-49ae-bf6d-e934f463bd88"
      }
     }
    },
    "5202a2d3-4c1d-49f7-b50f-56cd5bf92122": {
     "id": "5202a2d3-4c1d-49f7-b50f-56cd5bf92122",
     "prev": "d86158bc-5ab9-45c0-8286-1a96d5d05362",
     "regions": {
      "c52d3900-d648-4c18-bf89-7a1aca9b42f6": {
       "attrs": {
        "height": 0.8,
        "width": 0.8,
        "x": 0.1,
        "y": 0.1
       },
       "content": {
        "cell": "82b12948-15db-4e53-9741-ec37526586bb",
        "part": "whole"
       },
       "id": "c52d3900-d648-4c18-bf89-7a1aca9b42f6"
      }
     }
    },
    "5ddd7748-27df-4fa5-9b05-95388b599365": {
     "id": "5ddd7748-27df-4fa5-9b05-95388b599365",
     "prev": "d839ef7e-7ce7-488b-b990-54c117fcd2cf",
     "regions": {
      "2e2747e8-2a1a-4232-a523-09472327a6c3": {
       "attrs": {
        "height": 0.8,
        "width": 0.8,
        "x": 0.1,
        "y": 0.1
       },
       "content": {
        "cell": "e947859a-0449-498f-b36d-63b47bf693a6",
        "part": "whole"
       },
       "id": "2e2747e8-2a1a-4232-a523-09472327a6c3"
      }
     }
    },
    "60684921-5d24-4339-bdd9-2237e05d7660": {
     "id": "60684921-5d24-4339-bdd9-2237e05d7660",
     "prev": "434c5cf2-d60d-4db0-a1ba-79b5934090bd",
     "regions": {
      "feec4818-3940-482a-92b5-368f67f685e7": {
       "attrs": {
        "height": 0.8,
        "width": 0.8,
        "x": 0.1,
        "y": 0.1
       },
       "content": {
        "cell": "f5d07adc-f8c9-44e9-8406-d3a6fa1103e5",
        "part": "whole"
       },
       "id": "feec4818-3940-482a-92b5-368f67f685e7"
      }
     }
    },
    "6bc1627b-5e01-4394-9043-942ed80e1ef1": {
     "id": "6bc1627b-5e01-4394-9043-942ed80e1ef1",
     "prev": "5202a2d3-4c1d-49f7-b50f-56cd5bf92122",
     "regions": {
      "6139b374-97b0-4b92-88a9-2b127469f285": {
       "attrs": {
        "height": 0.8,
        "width": 0.8,
        "x": 0.1,
        "y": 0.1
       },
       "content": {
        "cell": "b06d3a98-cb2e-43ef-b520-4aab7dea76cf",
        "part": "whole"
       },
       "id": "6139b374-97b0-4b92-88a9-2b127469f285"
      }
     }
    },
    "6bfe233e-6b18-4cc1-b4af-adda773de7df": {
     "id": "6bfe233e-6b18-4cc1-b4af-adda773de7df",
     "prev": "f7b32d3a-1b00-48bd-a82e-ded13c8d69f3",
     "regions": {
      "64ed370c-84c4-4c5b-bb27-69e68dc7c25b": {
       "attrs": {
        "height": 0.8,
        "width": 0.8,
        "x": 0.1,
        "y": 0.1
       },
       "content": {
        "cell": "291a7273-5597-430d-8a80-f1a3a9989b5f",
        "part": "whole"
       },
       "id": "64ed370c-84c4-4c5b-bb27-69e68dc7c25b"
      }
     }
    },
    "7605b082-c467-43ea-84e8-4fd5263cf54f": {
     "id": "7605b082-c467-43ea-84e8-4fd5263cf54f",
     "prev": "6bfe233e-6b18-4cc1-b4af-adda773de7df",
     "regions": {
      "8b30c684-d38b-49f7-a2e5-1211ca15f44f": {
       "attrs": {
        "height": 0.8,
        "width": 0.8,
        "x": 0.1,
        "y": 0.1
       },
       "content": {
        "cell": "c0c29d05-e165-4acf-8c39-ac4d9431dfc6",
        "part": "whole"
       },
       "id": "8b30c684-d38b-49f7-a2e5-1211ca15f44f"
      }
     }
    },
    "7950bad2-3910-467f-9701-55d0674a5022": {
     "id": "7950bad2-3910-467f-9701-55d0674a5022",
     "prev": "8edfdba1-c2a1-440d-9845-1f65d2ad0f6b",
     "regions": {
      "c3e04d1d-6762-4cb0-a15a-2715fd29da73": {
       "attrs": {
        "height": 0.8,
        "width": 0.8,
        "x": 0.1,
        "y": 0.1
       },
       "content": {
        "cell": "787a77e3-ef0d-42ca-be50-950485892ff7",
        "part": "whole"
       },
       "id": "c3e04d1d-6762-4cb0-a15a-2715fd29da73"
      }
     }
    },
    "7efb704b-4f3e-45a7-85f4-facfb609a030": {
     "id": "7efb704b-4f3e-45a7-85f4-facfb609a030",
     "prev": "435cbb08-4a7a-4a22-ae46-bb060a4548dd",
     "regions": {
      "0f9da331-aad0-4afa-924c-68c1f3a613fa": {
       "attrs": {
        "height": 0.8,
        "width": 0.8,
        "x": 0.1,
        "y": 0.1
       },
       "content": {
        "cell": "739793ef-813b-4f3c-a489-60cbaf80e44a",
        "part": "whole"
       },
       "id": "0f9da331-aad0-4afa-924c-68c1f3a613fa"
      }
     }
    },
    "814d1668-4188-4864-85b2-7d795d4a2429": {
     "id": "814d1668-4188-4864-85b2-7d795d4a2429",
     "prev": "5ddd7748-27df-4fa5-9b05-95388b599365",
     "regions": {
      "d9948401-4291-45ce-bb3b-0132e25aff4d": {
       "attrs": {
        "height": 0.8,
        "width": 0.8,
        "x": 0.1,
        "y": 0.1
       },
       "content": {
        "cell": "92ba1250-3795-40fb-82e3-8fc3ba0ab0a7",
        "part": "whole"
       },
       "id": "d9948401-4291-45ce-bb3b-0132e25aff4d"
      }
     }
    },
    "84f2a88e-0654-4f2e-865b-7f507f9ad6bd": {
     "id": "84f2a88e-0654-4f2e-865b-7f507f9ad6bd",
     "prev": "99094815-a177-43ef-a7b1-b818447bd559",
     "regions": {
      "80ea339b-90ed-4d5b-876f-ed99b93e11e2": {
       "attrs": {
        "height": 0.8,
        "width": 0.8,
        "x": 0.1,
        "y": 0.1
       },
       "content": {
        "cell": "ddc1c39d-f1c4-42dc-94b1-1b653d6338d4",
        "part": "whole"
       },
       "id": "80ea339b-90ed-4d5b-876f-ed99b93e11e2"
      }
     }
    },
    "85599096-20ff-43b4-98f3-254387707d72": {
     "id": "85599096-20ff-43b4-98f3-254387707d72",
     "prev": "3c053af7-b94c-41a6-8978-62c672be30c2",
     "regions": {
      "d17b625c-7a95-4da7-861e-0b7f1ad07c2a": {
       "attrs": {
        "height": 0.8,
        "width": 0.8,
        "x": 0.1,
        "y": 0.1
       },
       "content": {
        "cell": "1773d962-966c-4c30-b97b-1ad32c9de90f",
        "part": "whole"
       },
       "id": "d17b625c-7a95-4da7-861e-0b7f1ad07c2a"
      }
     }
    },
    "8edfdba1-c2a1-440d-9845-1f65d2ad0f6b": {
     "id": "8edfdba1-c2a1-440d-9845-1f65d2ad0f6b",
     "prev": "a39b98d0-f66e-4ef3-b90c-f4d9fb9a02d2",
     "regions": {
      "a321da38-29f0-4d9b-af80-efd57e7b4fe7": {
       "attrs": {
        "height": 0.8,
        "width": 0.8,
        "x": 0.1,
        "y": 0.1
       },
       "content": {
        "cell": "b67efdb9-d2ac-42eb-9970-3aa375ccde2d",
        "part": "whole"
       },
       "id": "a321da38-29f0-4d9b-af80-efd57e7b4fe7"
      }
     }
    },
    "99094815-a177-43ef-a7b1-b818447bd559": {
     "id": "99094815-a177-43ef-a7b1-b818447bd559",
     "prev": "dbb49b92-de4a-43cc-9cd3-8f805dfd5f8f",
     "regions": {
      "fec3a9ce-4856-4604-ab3d-5ef8ddc125c4": {
       "attrs": {
        "height": 0.8,
        "width": 0.8,
        "x": 0.1,
        "y": 0.1
       },
       "content": {
        "cell": "d3c10d65-d370-4556-8dc3-5d6810e09841",
        "part": "whole"
       },
       "id": "fec3a9ce-4856-4604-ab3d-5ef8ddc125c4"
      }
     }
    },
    "9cc898a3-8ebb-40e7-ac39-5671efb1ce3d": {
     "id": "9cc898a3-8ebb-40e7-ac39-5671efb1ce3d",
     "prev": "7605b082-c467-43ea-84e8-4fd5263cf54f",
     "regions": {
      "117d9f28-5de7-4fb2-a051-5a92b1758c64": {
       "attrs": {
        "height": 0.8,
        "width": 0.8,
        "x": 0.1,
        "y": 0.1
       },
       "content": {
        "cell": "196e3c3f-3bc9-47b4-8130-27089f3b5d2d",
        "part": "whole"
       },
       "id": "117d9f28-5de7-4fb2-a051-5a92b1758c64"
      }
     }
    },
    "a0dd709f-ed64-4c32-98af-f3e41808c2d1": {
     "id": "a0dd709f-ed64-4c32-98af-f3e41808c2d1",
     "prev": "b47d7668-0857-40a7-acda-7a3a4240eb1a",
     "regions": {
      "d3478fa3-432d-4fce-a8b6-a18166f1c743": {
       "attrs": {
        "height": 0.8,
        "width": 0.8,
        "x": 0.1,
        "y": 0.1
       },
       "content": {
        "cell": "5b9b06e2-0c94-4958-a3db-997f9e845018",
        "part": "whole"
       },
       "id": "d3478fa3-432d-4fce-a8b6-a18166f1c743"
      }
     }
    },
    "a39b98d0-f66e-4ef3-b90c-f4d9fb9a02d2": {
     "id": "a39b98d0-f66e-4ef3-b90c-f4d9fb9a02d2",
     "prev": "05950cb3-7d4e-4fd6-9cc2-4b862003cb2e",
     "regions": {
      "b9dbb9f4-5e25-4f09-8b6d-f040070b2c7f": {
       "attrs": {
        "height": 0.8,
        "width": 0.8,
        "x": 0.1,
        "y": 0.1
       },
       "content": {
        "cell": "8994e94f-4233-4490-a49d-c41654e37feb",
        "part": "whole"
       },
       "id": "b9dbb9f4-5e25-4f09-8b6d-f040070b2c7f"
      }
     }
    },
    "b47d7668-0857-40a7-acda-7a3a4240eb1a": {
     "id": "b47d7668-0857-40a7-acda-7a3a4240eb1a",
     "prev": "6bc1627b-5e01-4394-9043-942ed80e1ef1",
     "regions": {
      "344b8bd4-a309-41f3-ae4f-aedab61b511d": {
       "attrs": {
        "height": 0.8,
        "width": 0.8,
        "x": 0.1,
        "y": 0.1
       },
       "content": {
        "cell": "87e2e099-7585-4396-9824-d2f6da7b1968",
        "part": "whole"
       },
       "id": "344b8bd4-a309-41f3-ae4f-aedab61b511d"
      }
     }
    },
    "cbdf1f00-f1f8-4012-98b1-4cc93cebbf19": {
     "id": "cbdf1f00-f1f8-4012-98b1-4cc93cebbf19",
     "prev": "a0dd709f-ed64-4c32-98af-f3e41808c2d1",
     "regions": {
      "a9c1199f-ea6f-46d7-b1e6-f6035096e481": {
       "attrs": {
        "height": 0.8,
        "width": 0.8,
        "x": 0.1,
        "y": 0.1
       },
       "content": {
        "cell": "08b4705c-44e6-403e-a4a2-7a3fc4478cb2",
        "part": "whole"
       },
       "id": "a9c1199f-ea6f-46d7-b1e6-f6035096e481"
      }
     }
    },
    "d0eaad71-0462-4385-848a-5d7edcd4742f": {
     "id": "d0eaad71-0462-4385-848a-5d7edcd4742f",
     "prev": "17f84033-872d-4862-85e0-55d3c99e26e0",
     "regions": {
      "b916cc30-9764-4191-84b8-14c8ca63a7d5": {
       "attrs": {
        "height": 0.8,
        "width": 0.8,
        "x": 0.1,
        "y": 0.1
       },
       "content": {
        "cell": "e0efb163-e719-4e6e-809a-5774749cef62",
        "part": "whole"
       },
       "id": "b916cc30-9764-4191-84b8-14c8ca63a7d5"
      }
     }
    },
    "d839ef7e-7ce7-488b-b990-54c117fcd2cf": {
     "id": "d839ef7e-7ce7-488b-b990-54c117fcd2cf",
     "prev": "2aa7175b-94c4-4d11-bf53-118f2b7c0fd4",
     "regions": {
      "b1a4ce8b-668b-46fd-beb4-79323dfe5769": {
       "attrs": {
        "height": 0.8,
        "width": 0.8,
        "x": 0.1,
        "y": 0.1
       },
       "content": {
        "cell": "ed306ebb-6e5a-4008-9a51-662779f71eb4",
        "part": "whole"
       },
       "id": "b1a4ce8b-668b-46fd-beb4-79323dfe5769"
      }
     }
    },
    "d86158bc-5ab9-45c0-8286-1a96d5d05362": {
     "id": "d86158bc-5ab9-45c0-8286-1a96d5d05362",
     "prev": "ea83d5db-c9d5-47d0-9010-710f39ad9b09",
     "regions": {
      "de7f7dbc-5456-45ae-854a-6a6f7736cb5b": {
       "attrs": {
        "height": 0.8,
        "width": 0.8,
        "x": 0.1,
        "y": 0.1
       },
       "content": {
        "cell": "6603d07f-2e73-4431-a716-345d3a87bbe5",
        "part": "whole"
       },
       "id": "de7f7dbc-5456-45ae-854a-6a6f7736cb5b"
      }
     }
    },
    "dbb49b92-de4a-43cc-9cd3-8f805dfd5f8f": {
     "id": "dbb49b92-de4a-43cc-9cd3-8f805dfd5f8f",
     "prev": "cbdf1f00-f1f8-4012-98b1-4cc93cebbf19",
     "regions": {
      "d5ce4794-465b-4ef7-a635-055df530d5ae": {
       "attrs": {
        "height": 0.8,
        "width": 0.8,
        "x": 0.1,
        "y": 0.1
       },
       "content": {
        "cell": "7edc207b-62ff-4645-8ac9-a6100df00d84",
        "part": "whole"
       },
       "id": "d5ce4794-465b-4ef7-a635-055df530d5ae"
      }
     }
    },
    "df52ae4b-8f1e-4edf-b350-1828f0c8fb49": {
     "id": "df52ae4b-8f1e-4edf-b350-1828f0c8fb49",
     "prev": "4c2012ca-073f-46db-a82f-04281cdc2fab",
     "regions": {
      "7640ac3d-63e8-4616-bc52-0b9f95d6efed": {
       "attrs": {
        "height": 0.8,
        "width": 0.8,
        "x": 0.1,
        "y": 0.1
       },
       "content": {
        "cell": "35f2d6b6-6224-42d4-9001-d58a26c952d1",
        "part": "whole"
       },
       "id": "7640ac3d-63e8-4616-bc52-0b9f95d6efed"
      }
     }
    },
    "ea83d5db-c9d5-47d0-9010-710f39ad9b09": {
     "id": "ea83d5db-c9d5-47d0-9010-710f39ad9b09",
     "prev": "4764af41-c851-4c01-950e-2843b8d68ccc",
     "regions": {
      "2ff562d3-79fa-411a-adf8-655b1b8a893e": {
       "attrs": {
        "height": 0.8,
        "width": 0.8,
        "x": 0.1,
        "y": 0.1
       },
       "content": {
        "cell": "93c0c456-8f63-4cc6-a305-e0b75332d43e",
        "part": "whole"
       },
       "id": "2ff562d3-79fa-411a-adf8-655b1b8a893e"
      }
     }
    },
    "f0e5fa0e-7474-45ee-ac01-a319ff14faa9": {
     "id": "f0e5fa0e-7474-45ee-ac01-a319ff14faa9",
     "prev": "9cc898a3-8ebb-40e7-ac39-5671efb1ce3d",
     "regions": {
      "9623675c-b8f1-4b06-ad0d-18dbc5cd400b": {
       "attrs": {
        "height": 0.8,
        "width": 0.8,
        "x": 0.1,
        "y": 0.1
       },
       "content": {
        "cell": "a4f4d95b-8e37-4e9f-96dd-ddbe34a8e9e3",
        "part": "whole"
       },
       "id": "9623675c-b8f1-4b06-ad0d-18dbc5cd400b"
      }
     }
    },
    "f71b54be-037c-4217-9a45-7d86c82c89c6": {
     "id": "f71b54be-037c-4217-9a45-7d86c82c89c6",
     "prev": "45a9b1ca-63f0-46e5-9faa-65b8e56c076a",
     "regions": {
      "ab7e4c6f-5791-4387-a19a-b335fdb992b3": {
       "attrs": {
        "height": 0.8,
        "width": 0.8,
        "x": 0.1,
        "y": 0.1
       },
       "content": {
        "cell": "349f1f76-6b30-4b80-9d28-a7bb0d1e1924",
        "part": "whole"
       },
       "id": "ab7e4c6f-5791-4387-a19a-b335fdb992b3"
      }
     }
    },
    "f7b32d3a-1b00-48bd-a82e-ded13c8d69f3": {
     "id": "f7b32d3a-1b00-48bd-a82e-ded13c8d69f3",
     "prev": "60684921-5d24-4339-bdd9-2237e05d7660",
     "regions": {
      "f333a744-29a3-4c43-a171-44a169ad5ce7": {
       "attrs": {
        "height": 0.8,
        "width": 0.8,
        "x": 0.1,
        "y": 0.1
       },
       "content": {
        "cell": "325efec6-9288-4e2d-86e2-2a1a01c6d3a0",
        "part": "whole"
       },
       "id": "f333a744-29a3-4c43-a171-44a169ad5ce7"
      }
     }
    }
   },
   "themes": {
    "default": "c8474560-1739-46a1-8435-a95538cd5aa2",
    "theme": {
     "4d474441-d452-4cbb-bd50-3d9d732b8329": {
      "id": "4d474441-d452-4cbb-bd50-3d9d732b8329",
      "palette": {
       "19cc588f-0593-49c9-9f4b-e4d7cc113b1c": {
        "id": "19cc588f-0593-49c9-9f4b-e4d7cc113b1c",
        "rgb": [
         252,
         252,
         252
        ]
       },
       "31af15d2-7e15-44c5-ab5e-e04b16a89eff": {
        "id": "31af15d2-7e15-44c5-ab5e-e04b16a89eff",
        "rgb": [
         68,
         68,
         68
        ]
       },
       "50f92c45-a630-455b-aec3-788680ec7410": {
        "id": "50f92c45-a630-455b-aec3-788680ec7410",
        "rgb": [
         155,
         177,
         192
        ]
       },
       "c5cc3653-2ee1-402a-aba2-7caae1da4f6c": {
        "id": "c5cc3653-2ee1-402a-aba2-7caae1da4f6c",
        "rgb": [
         43,
         126,
         184
        ]
       },
       "efa7f048-9acb-414c-8b04-a26811511a21": {
        "id": "efa7f048-9acb-414c-8b04-a26811511a21",
        "rgb": [
         25.118061674008803,
         73.60176211453744,
         107.4819383259912
        ]
       }
      },
      "rules": {
       "blockquote": {
        "color": "50f92c45-a630-455b-aec3-788680ec7410"
       },
       "code": {
        "font-family": "Anonymous Pro"
       },
       "h1": {
        "color": "c5cc3653-2ee1-402a-aba2-7caae1da4f6c",
        "font-family": "Lato",
        "font-size": 8
       },
       "h2": {
        "color": "c5cc3653-2ee1-402a-aba2-7caae1da4f6c",
        "font-family": "Lato",
        "font-size": 6
       },
       "h3": {
        "color": "50f92c45-a630-455b-aec3-788680ec7410",
        "font-family": "Lato",
        "font-size": 5.5
       },
       "h4": {
        "color": "c5cc3653-2ee1-402a-aba2-7caae1da4f6c",
        "font-family": "Lato",
        "font-size": 5
       },
       "h5": {
        "font-family": "Lato"
       },
       "h6": {
        "font-family": "Lato"
       },
       "h7": {
        "font-family": "Lato"
       },
       "pre": {
        "font-family": "Anonymous Pro",
        "font-size": 4
       }
      },
      "text-base": {
       "font-family": "Merriweather",
       "font-size": 4
      }
     },
     "830502e5-b382-4cb9-9033-9d7a155a72b5": {
      "backgrounds": {
       "dc7afa04-bf90-40b1-82a5-726e3cff5267": {
        "background-color": "31af15d2-7e15-44c5-ab5e-e04b16a89eff",
        "id": "dc7afa04-bf90-40b1-82a5-726e3cff5267"
       }
      },
      "id": "830502e5-b382-4cb9-9033-9d7a155a72b5",
      "palette": {
       "19cc588f-0593-49c9-9f4b-e4d7cc113b1c": {
        "id": "19cc588f-0593-49c9-9f4b-e4d7cc113b1c",
        "rgb": [
         252,
         252,
         252
        ]
       },
       "31af15d2-7e15-44c5-ab5e-e04b16a89eff": {
        "id": "31af15d2-7e15-44c5-ab5e-e04b16a89eff",
        "rgb": [
         68,
         68,
         68
        ]
       },
       "50f92c45-a630-455b-aec3-788680ec7410": {
        "id": "50f92c45-a630-455b-aec3-788680ec7410",
        "rgb": [
         197,
         226,
         245
        ]
       },
       "c5cc3653-2ee1-402a-aba2-7caae1da4f6c": {
        "id": "c5cc3653-2ee1-402a-aba2-7caae1da4f6c",
        "rgb": [
         43,
         126,
         184
        ]
       },
       "efa7f048-9acb-414c-8b04-a26811511a21": {
        "id": "efa7f048-9acb-414c-8b04-a26811511a21",
        "rgb": [
         25.118061674008803,
         73.60176211453744,
         107.4819383259912
        ]
       }
      },
      "rules": {
       "a": {
        "color": "19cc588f-0593-49c9-9f4b-e4d7cc113b1c"
       },
       "blockquote": {
        "color": "50f92c45-a630-455b-aec3-788680ec7410",
        "font-size": 3
       },
       "code": {
        "font-family": "Anonymous Pro"
       },
       "h1": {
        "color": "19cc588f-0593-49c9-9f4b-e4d7cc113b1c",
        "font-family": "Merriweather",
        "font-size": 8
       },
       "h2": {
        "color": "19cc588f-0593-49c9-9f4b-e4d7cc113b1c",
        "font-family": "Merriweather",
        "font-size": 6
       },
       "h3": {
        "color": "50f92c45-a630-455b-aec3-788680ec7410",
        "font-family": "Lato",
        "font-size": 5.5
       },
       "h4": {
        "color": "c5cc3653-2ee1-402a-aba2-7caae1da4f6c",
        "font-family": "Lato",
        "font-size": 5
       },
       "h5": {
        "font-family": "Lato"
       },
       "h6": {
        "font-family": "Lato"
       },
       "h7": {
        "font-family": "Lato"
       },
       "li": {
        "color": "50f92c45-a630-455b-aec3-788680ec7410",
        "font-size": 3.25
       },
       "pre": {
        "font-family": "Anonymous Pro",
        "font-size": 4
       }
      },
      "text-base": {
       "color": "19cc588f-0593-49c9-9f4b-e4d7cc113b1c",
       "font-family": "Lato",
       "font-size": 4
      }
     },
     "c8474560-1739-46a1-8435-a95538cd5aa2": {
      "backgrounds": {
       "backgroundColor": {
        "background-color": "backgroundColor",
        "id": "backgroundColor"
       }
      },
      "id": "c8474560-1739-46a1-8435-a95538cd5aa2",
      "palette": {
       "backgroundColor": {
        "id": "backgroundColor",
        "rgb": [
         247,
         251,
         252
        ]
       },
       "headingColor": {
        "id": "headingColor",
        "rgb": [
         51,
         51,
         51
        ]
       },
       "linkColor": {
        "id": "linkColor",
        "rgb": [
         59,
         117,
         158
        ]
       },
       "mainColor": {
        "id": "mainColor",
        "rgb": [
         51,
         51,
         51
        ]
       }
      },
      "rules": {
       "a": {
        "color": "linkColor"
       },
       "h1": {
        "color": "headingColor",
        "font-family": "Quicksand",
        "font-size": 7
       },
       "h2": {
        "color": "headingColor",
        "font-family": "Quicksand",
        "font-size": 5
       },
       "h3": {
        "color": "headingColor",
        "font-family": "Quicksand",
        "font-size": 3.75
       },
       "h4": {
        "color": "headingColor",
        "font-family": "Quicksand",
        "font-size": 3
       },
       "h5": {
        "color": "headingColor",
        "font-family": "Quicksand"
       },
       "h6": {
        "color": "headingColor",
        "font-family": "Quicksand"
       },
       "h7": {
        "color": "headingColor",
        "font-family": "Quicksand"
       },
       "li": {
        "color": "mainColor",
        "font-family": "Open Sans",
        "font-size": 5
       },
       "p": {
        "color": "mainColor",
        "font-family": "Open Sans",
        "font-size": 5
       }
      },
      "text-base": {
       "color": "mainColor",
       "font-family": "Open Sans",
       "font-size": 5
      }
     },
     "d718c0b5-6dca-46d5-863e-36c1bea04047": {
      "id": "d718c0b5-6dca-46d5-863e-36c1bea04047",
      "palette": {
       "19cc588f-0593-49c9-9f4b-e4d7cc113b1c": {
        "id": "19cc588f-0593-49c9-9f4b-e4d7cc113b1c",
        "rgb": [
         252,
         252,
         252
        ]
       },
       "31af15d2-7e15-44c5-ab5e-e04b16a89eff": {
        "id": "31af15d2-7e15-44c5-ab5e-e04b16a89eff",
        "rgb": [
         68,
         68,
         68
        ]
       },
       "50f92c45-a630-455b-aec3-788680ec7410": {
        "id": "50f92c45-a630-455b-aec3-788680ec7410",
        "rgb": [
         155,
         177,
         192
        ]
       },
       "c5cc3653-2ee1-402a-aba2-7caae1da4f6c": {
        "id": "c5cc3653-2ee1-402a-aba2-7caae1da4f6c",
        "rgb": [
         43,
         126,
         184
        ]
       },
       "efa7f048-9acb-414c-8b04-a26811511a21": {
        "id": "efa7f048-9acb-414c-8b04-a26811511a21",
        "rgb": [
         25.118061674008803,
         73.60176211453744,
         107.4819383259912
        ]
       }
      },
      "rules": {
       "blockquote": {
        "color": "50f92c45-a630-455b-aec3-788680ec7410"
       },
       "code": {
        "font-family": "Anonymous Pro"
       },
       "h1": {
        "color": "c5cc3653-2ee1-402a-aba2-7caae1da4f6c",
        "font-family": "Lato",
        "font-size": 8
       },
       "h2": {
        "color": "c5cc3653-2ee1-402a-aba2-7caae1da4f6c",
        "font-family": "Lato",
        "font-size": 6
       },
       "h3": {
        "color": "50f92c45-a630-455b-aec3-788680ec7410",
        "font-family": "Lato",
        "font-size": 5.5
       },
       "h4": {
        "color": "c5cc3653-2ee1-402a-aba2-7caae1da4f6c",
        "font-family": "Lato",
        "font-size": 5
       },
       "h5": {
        "font-family": "Lato"
       },
       "h6": {
        "font-family": "Lato"
       },
       "h7": {
        "font-family": "Lato"
       },
       "pre": {
        "font-family": "Anonymous Pro",
        "font-size": 4
       }
      },
      "text-base": {
       "font-family": "Merriweather",
       "font-size": 4
      }
     },
     "e74439f6-6141-466e-bdad-e683d76f03ef": {
      "id": "e74439f6-6141-466e-bdad-e683d76f03ef",
      "palette": {
       "19cc588f-0593-49c9-9f4b-e4d7cc113b1c": {
        "id": "19cc588f-0593-49c9-9f4b-e4d7cc113b1c",
        "rgb": [
         252,
         252,
         252
        ]
       },
       "31af15d2-7e15-44c5-ab5e-e04b16a89eff": {
        "id": "31af15d2-7e15-44c5-ab5e-e04b16a89eff",
        "rgb": [
         68,
         68,
         68
        ]
       },
       "50f92c45-a630-455b-aec3-788680ec7410": {
        "id": "50f92c45-a630-455b-aec3-788680ec7410",
        "rgb": [
         155,
         177,
         192
        ]
       },
       "c5cc3653-2ee1-402a-aba2-7caae1da4f6c": {
        "id": "c5cc3653-2ee1-402a-aba2-7caae1da4f6c",
        "rgb": [
         43,
         126,
         184
        ]
       },
       "efa7f048-9acb-414c-8b04-a26811511a21": {
        "id": "efa7f048-9acb-414c-8b04-a26811511a21",
        "rgb": [
         25.118061674008803,
         73.60176211453744,
         107.4819383259912
        ]
       }
      },
      "rules": {
       "blockquote": {
        "color": "50f92c45-a630-455b-aec3-788680ec7410"
       },
       "code": {
        "font-family": "Anonymous Pro"
       },
       "h1": {
        "color": "c5cc3653-2ee1-402a-aba2-7caae1da4f6c",
        "font-family": "Lato",
        "font-size": 8
       },
       "h2": {
        "color": "c5cc3653-2ee1-402a-aba2-7caae1da4f6c",
        "font-family": "Lato",
        "font-size": 6
       },
       "h3": {
        "color": "50f92c45-a630-455b-aec3-788680ec7410",
        "font-family": "Lato",
        "font-size": 5.5
       },
       "h4": {
        "color": "c5cc3653-2ee1-402a-aba2-7caae1da4f6c",
        "font-family": "Lato",
        "font-size": 5
       },
       "h5": {
        "font-family": "Lato"
       },
       "h6": {
        "font-family": "Lato"
       },
       "h7": {
        "font-family": "Lato"
       },
       "pre": {
        "font-family": "Anonymous Pro",
        "font-size": 4
       }
      },
      "text-base": {
       "font-family": "Merriweather",
       "font-size": 4
      }
     },
     "faf86058-f069-4194-93e3-54a0dd8062e0": {
      "backgrounds": {
       "dc7afa04-bf90-40b1-82a5-726e3cff5267": {
        "background-color": "31af15d2-7e15-44c5-ab5e-e04b16a89eff",
        "id": "dc7afa04-bf90-40b1-82a5-726e3cff5267"
       }
      },
      "id": "faf86058-f069-4194-93e3-54a0dd8062e0",
      "palette": {
       "19cc588f-0593-49c9-9f4b-e4d7cc113b1c": {
        "id": "19cc588f-0593-49c9-9f4b-e4d7cc113b1c",
        "rgb": [
         252,
         252,
         252
        ]
       },
       "31af15d2-7e15-44c5-ab5e-e04b16a89eff": {
        "id": "31af15d2-7e15-44c5-ab5e-e04b16a89eff",
        "rgb": [
         68,
         68,
         68
        ]
       },
       "50f92c45-a630-455b-aec3-788680ec7410": {
        "id": "50f92c45-a630-455b-aec3-788680ec7410",
        "rgb": [
         197,
         226,
         245
        ]
       },
       "c5cc3653-2ee1-402a-aba2-7caae1da4f6c": {
        "id": "c5cc3653-2ee1-402a-aba2-7caae1da4f6c",
        "rgb": [
         43,
         126,
         184
        ]
       },
       "efa7f048-9acb-414c-8b04-a26811511a21": {
        "id": "efa7f048-9acb-414c-8b04-a26811511a21",
        "rgb": [
         25.118061674008803,
         73.60176211453744,
         107.4819383259912
        ]
       }
      },
      "rules": {
       "a": {
        "color": "19cc588f-0593-49c9-9f4b-e4d7cc113b1c"
       },
       "blockquote": {
        "color": "50f92c45-a630-455b-aec3-788680ec7410",
        "font-size": 3
       },
       "code": {
        "font-family": "Anonymous Pro"
       },
       "h1": {
        "color": "19cc588f-0593-49c9-9f4b-e4d7cc113b1c",
        "font-family": "Merriweather",
        "font-size": 8
       },
       "h2": {
        "color": "19cc588f-0593-49c9-9f4b-e4d7cc113b1c",
        "font-family": "Merriweather",
        "font-size": 6
       },
       "h3": {
        "color": "50f92c45-a630-455b-aec3-788680ec7410",
        "font-family": "Lato",
        "font-size": 5.5
       },
       "h4": {
        "color": "c5cc3653-2ee1-402a-aba2-7caae1da4f6c",
        "font-family": "Lato",
        "font-size": 5
       },
       "h5": {
        "font-family": "Lato"
       },
       "h6": {
        "font-family": "Lato"
       },
       "h7": {
        "font-family": "Lato"
       },
       "li": {
        "color": "50f92c45-a630-455b-aec3-788680ec7410",
        "font-size": 3.25
       },
       "pre": {
        "font-family": "Anonymous Pro",
        "font-size": 4
       }
      },
      "text-base": {
       "color": "19cc588f-0593-49c9-9f4b-e4d7cc113b1c",
       "font-family": "Lato",
       "font-size": 4
      }
     }
    }
   }
  }
 },
 "nbformat": 4,
 "nbformat_minor": 1
}
